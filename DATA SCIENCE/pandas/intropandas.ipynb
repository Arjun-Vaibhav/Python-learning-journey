{
 "cells": [
  {
   "cell_type": "code",
   "execution_count": 2,
   "id": "e7f03e05",
   "metadata": {},
   "outputs": [],
   "source": [
    "import pandas as pd"
   ]
  },
  {
   "cell_type": "code",
   "execution_count": 3,
   "id": "9baf5e61",
   "metadata": {},
   "outputs": [
    {
     "name": "stdout",
     "output_type": "stream",
     "text": [
      "0    vaibhav\n",
      "1      arjun\n",
      "2     roshan\n",
      "3     kishan\n",
      "dtype: object\n"
     ]
    }
   ],
   "source": [
    "sr=pd.Series(['vaibhav','arjun','roshan','kishan'])\n",
    "print(sr)"
   ]
  },
  {
   "cell_type": "code",
   "execution_count": 6,
   "id": "caf7d3b9",
   "metadata": {},
   "outputs": [],
   "source": [
    "sr1=pd.Series(['a','b','d','e'], index=[10,20,30,40])"
   ]
  },
  {
   "cell_type": "code",
   "execution_count": 11,
   "id": "53da427b",
   "metadata": {},
   "outputs": [
    {
     "data": {
      "text/html": [
       "<div>\n",
       "<style scoped>\n",
       "    .dataframe tbody tr th:only-of-type {\n",
       "        vertical-align: middle;\n",
       "    }\n",
       "\n",
       "    .dataframe tbody tr th {\n",
       "        vertical-align: top;\n",
       "    }\n",
       "\n",
       "    .dataframe thead th {\n",
       "        text-align: right;\n",
       "    }\n",
       "</style>\n",
       "<table border=\"1\" class=\"dataframe\">\n",
       "  <thead>\n",
       "    <tr style=\"text-align: right;\">\n",
       "      <th></th>\n",
       "      <th>name</th>\n",
       "      <th>age</th>\n",
       "      <th>city</th>\n",
       "      <th>marks</th>\n",
       "    </tr>\n",
       "  </thead>\n",
       "  <tbody>\n",
       "    <tr>\n",
       "      <th>0</th>\n",
       "      <td>vaibhav</td>\n",
       "      <td>20</td>\n",
       "      <td>pune</td>\n",
       "      <td>99</td>\n",
       "    </tr>\n",
       "    <tr>\n",
       "      <th>1</th>\n",
       "      <td>roshan</td>\n",
       "      <td>30</td>\n",
       "      <td>nagar</td>\n",
       "      <td>89</td>\n",
       "    </tr>\n",
       "    <tr>\n",
       "      <th>2</th>\n",
       "      <td>tushar</td>\n",
       "      <td>20</td>\n",
       "      <td>nashik</td>\n",
       "      <td>86</td>\n",
       "    </tr>\n",
       "    <tr>\n",
       "      <th>3</th>\n",
       "      <td>kishan</td>\n",
       "      <td>32</td>\n",
       "      <td>nagpur</td>\n",
       "      <td>83</td>\n",
       "    </tr>\n",
       "    <tr>\n",
       "      <th>4</th>\n",
       "      <td>roshan</td>\n",
       "      <td>21</td>\n",
       "      <td>kashmir</td>\n",
       "      <td>84</td>\n",
       "    </tr>\n",
       "    <tr>\n",
       "      <th>5</th>\n",
       "      <td>omkar</td>\n",
       "      <td>22</td>\n",
       "      <td>pune</td>\n",
       "      <td>78</td>\n",
       "    </tr>\n",
       "    <tr>\n",
       "      <th>6</th>\n",
       "      <td>ram</td>\n",
       "      <td>31</td>\n",
       "      <td>mumbai</td>\n",
       "      <td>86</td>\n",
       "    </tr>\n",
       "  </tbody>\n",
       "</table>\n",
       "</div>"
      ],
      "text/plain": [
       "      name  age     city  marks\n",
       "0  vaibhav   20     pune     99\n",
       "1   roshan   30    nagar     89\n",
       "2   tushar   20   nashik     86\n",
       "3   kishan   32   nagpur     83\n",
       "4   roshan   21  kashmir     84\n",
       "5    omkar   22     pune     78\n",
       "6      ram   31   mumbai     86"
      ]
     },
     "execution_count": 11,
     "metadata": {},
     "output_type": "execute_result"
    }
   ],
   "source": [
    "studentdata={\n",
    "        \"name\":['vaibhav','roshan','tushar','kishan','roshan','omkar','ram'],\n",
    "        'age':[20,30,20,32,21,22,31],\n",
    "        'city':['pune','nagar','nashik','nagpur','kashmir','pune','mumbai'],\n",
    "        'marks':[99,89,86,83,84,78,86]\n",
    "\n",
    "}\n",
    "sd=pd.DataFrame(studentdata)\n",
    "sd"
   ]
  },
  {
   "cell_type": "code",
   "execution_count": 12,
   "id": "b7f4ba6f",
   "metadata": {},
   "outputs": [
    {
     "name": "stdout",
     "output_type": "stream",
     "text": [
      "0       pune\n",
      "1      nagar\n",
      "2     nashik\n",
      "3     nagpur\n",
      "4    kashmir\n",
      "5       pune\n",
      "6     mumbai\n",
      "Name: city, dtype: object\n"
     ]
    }
   ],
   "source": [
    "#access element from DataFrame\n",
    "print(sd['city'])"
   ]
  },
  {
   "cell_type": "code",
   "execution_count": 14,
   "id": "f5d1288f",
   "metadata": {},
   "outputs": [
    {
     "name": "stdout",
     "output_type": "stream",
     "text": [
      "      city     name\n",
      "0     pune  vaibhav\n",
      "1    nagar   roshan\n",
      "2   nashik   tushar\n",
      "3   nagpur   kishan\n",
      "4  kashmir   roshan\n",
      "5     pune    omkar\n",
      "6   mumbai      ram\n"
     ]
    }
   ],
   "source": [
    "print(sd[['city','name']])"
   ]
  },
  {
   "cell_type": "code",
   "execution_count": 17,
   "id": "6df3b8ef",
   "metadata": {},
   "outputs": [
    {
     "name": "stdout",
     "output_type": "stream",
     "text": [
      "      name  age  city  marks\n",
      "0  vaibhav   20  pune     99\n"
     ]
    }
   ],
   "source": [
    "print(sd[sd['marks']>90])"
   ]
  },
  {
   "cell_type": "code",
   "execution_count": 18,
   "id": "6b0c254f",
   "metadata": {},
   "outputs": [
    {
     "name": "stdout",
     "output_type": "stream",
     "text": [
      "      name  age  city  marks\n",
      "0  vaibhav   20  pune     99\n",
      "5    omkar   22  pune     78\n"
     ]
    }
   ],
   "source": [
    "print(sd[sd['city']=='pune'])"
   ]
  },
  {
   "cell_type": "code",
   "execution_count": 19,
   "id": "85e9c198",
   "metadata": {},
   "outputs": [
    {
     "name": "stdout",
     "output_type": "stream",
     "text": [
      "     name  age    city  marks\n",
      "3  kishan   32  nagpur     83\n",
      "6     ram   31  mumbai     86\n"
     ]
    }
   ],
   "source": [
    "print(sd[(sd['age']>30)&(sd['marks']>80)])"
   ]
  },
  {
   "cell_type": "code",
   "execution_count": 22,
   "id": "6c0c3b6d",
   "metadata": {},
   "outputs": [
    {
     "data": {
      "text/html": [
       "<div>\n",
       "<style scoped>\n",
       "    .dataframe tbody tr th:only-of-type {\n",
       "        vertical-align: middle;\n",
       "    }\n",
       "\n",
       "    .dataframe tbody tr th {\n",
       "        vertical-align: top;\n",
       "    }\n",
       "\n",
       "    .dataframe thead th {\n",
       "        text-align: right;\n",
       "    }\n",
       "</style>\n",
       "<table border=\"1\" class=\"dataframe\">\n",
       "  <thead>\n",
       "    <tr style=\"text-align: right;\">\n",
       "      <th></th>\n",
       "      <th>name</th>\n",
       "      <th>age</th>\n",
       "      <th>city</th>\n",
       "      <th>marks</th>\n",
       "      <th>fees</th>\n",
       "    </tr>\n",
       "  </thead>\n",
       "  <tbody>\n",
       "    <tr>\n",
       "      <th>0</th>\n",
       "      <td>vaibhav</td>\n",
       "      <td>20</td>\n",
       "      <td>pune</td>\n",
       "      <td>99</td>\n",
       "      <td>495000</td>\n",
       "    </tr>\n",
       "    <tr>\n",
       "      <th>1</th>\n",
       "      <td>roshan</td>\n",
       "      <td>30</td>\n",
       "      <td>nagar</td>\n",
       "      <td>89</td>\n",
       "      <td>445000</td>\n",
       "    </tr>\n",
       "    <tr>\n",
       "      <th>2</th>\n",
       "      <td>tushar</td>\n",
       "      <td>20</td>\n",
       "      <td>nashik</td>\n",
       "      <td>86</td>\n",
       "      <td>430000</td>\n",
       "    </tr>\n",
       "    <tr>\n",
       "      <th>3</th>\n",
       "      <td>kishan</td>\n",
       "      <td>32</td>\n",
       "      <td>nagpur</td>\n",
       "      <td>83</td>\n",
       "      <td>415000</td>\n",
       "    </tr>\n",
       "    <tr>\n",
       "      <th>4</th>\n",
       "      <td>roshan</td>\n",
       "      <td>21</td>\n",
       "      <td>kashmir</td>\n",
       "      <td>84</td>\n",
       "      <td>420000</td>\n",
       "    </tr>\n",
       "    <tr>\n",
       "      <th>5</th>\n",
       "      <td>omkar</td>\n",
       "      <td>22</td>\n",
       "      <td>pune</td>\n",
       "      <td>78</td>\n",
       "      <td>390000</td>\n",
       "    </tr>\n",
       "    <tr>\n",
       "      <th>6</th>\n",
       "      <td>ram</td>\n",
       "      <td>31</td>\n",
       "      <td>mumbai</td>\n",
       "      <td>86</td>\n",
       "      <td>430000</td>\n",
       "    </tr>\n",
       "  </tbody>\n",
       "</table>\n",
       "</div>"
      ],
      "text/plain": [
       "      name  age     city  marks    fees\n",
       "0  vaibhav   20     pune     99  495000\n",
       "1   roshan   30    nagar     89  445000\n",
       "2   tushar   20   nashik     86  430000\n",
       "3   kishan   32   nagpur     83  415000\n",
       "4   roshan   21  kashmir     84  420000\n",
       "5    omkar   22     pune     78  390000\n",
       "6      ram   31   mumbai     86  430000"
      ]
     },
     "execution_count": 22,
     "metadata": {},
     "output_type": "execute_result"
    }
   ],
   "source": [
    "sd['fees']=sd['marks']*5000\n",
    "sd"
   ]
  },
  {
   "cell_type": "code",
   "execution_count": 23,
   "id": "064f068b",
   "metadata": {},
   "outputs": [
    {
     "data": {
      "text/html": [
       "<div>\n",
       "<style scoped>\n",
       "    .dataframe tbody tr th:only-of-type {\n",
       "        vertical-align: middle;\n",
       "    }\n",
       "\n",
       "    .dataframe tbody tr th {\n",
       "        vertical-align: top;\n",
       "    }\n",
       "\n",
       "    .dataframe thead th {\n",
       "        text-align: right;\n",
       "    }\n",
       "</style>\n",
       "<table border=\"1\" class=\"dataframe\">\n",
       "  <thead>\n",
       "    <tr style=\"text-align: right;\">\n",
       "      <th></th>\n",
       "      <th>name</th>\n",
       "      <th>age</th>\n",
       "      <th>city</th>\n",
       "      <th>marks</th>\n",
       "      <th>fees</th>\n",
       "    </tr>\n",
       "  </thead>\n",
       "  <tbody>\n",
       "    <tr>\n",
       "      <th>0</th>\n",
       "      <td>vaibhav</td>\n",
       "      <td>20</td>\n",
       "      <td>pune</td>\n",
       "      <td>99</td>\n",
       "      <td>495000</td>\n",
       "    </tr>\n",
       "    <tr>\n",
       "      <th>1</th>\n",
       "      <td>roshan</td>\n",
       "      <td>30</td>\n",
       "      <td>nagar</td>\n",
       "      <td>89</td>\n",
       "      <td>445000</td>\n",
       "    </tr>\n",
       "    <tr>\n",
       "      <th>2</th>\n",
       "      <td>tushar</td>\n",
       "      <td>20</td>\n",
       "      <td>nashik</td>\n",
       "      <td>86</td>\n",
       "      <td>430000</td>\n",
       "    </tr>\n",
       "    <tr>\n",
       "      <th>3</th>\n",
       "      <td>kishan</td>\n",
       "      <td>32</td>\n",
       "      <td>nagpur</td>\n",
       "      <td>83</td>\n",
       "      <td>415000</td>\n",
       "    </tr>\n",
       "    <tr>\n",
       "      <th>4</th>\n",
       "      <td>roshan</td>\n",
       "      <td>21</td>\n",
       "      <td>kashmir</td>\n",
       "      <td>84</td>\n",
       "      <td>420000</td>\n",
       "    </tr>\n",
       "  </tbody>\n",
       "</table>\n",
       "</div>"
      ],
      "text/plain": [
       "      name  age     city  marks    fees\n",
       "0  vaibhav   20     pune     99  495000\n",
       "1   roshan   30    nagar     89  445000\n",
       "2   tushar   20   nashik     86  430000\n",
       "3   kishan   32   nagpur     83  415000\n",
       "4   roshan   21  kashmir     84  420000"
      ]
     },
     "execution_count": 23,
     "metadata": {},
     "output_type": "execute_result"
    }
   ],
   "source": [
    "sd.head()"
   ]
  },
  {
   "cell_type": "code",
   "execution_count": 24,
   "id": "23fcf1c8",
   "metadata": {},
   "outputs": [
    {
     "data": {
      "text/html": [
       "<div>\n",
       "<style scoped>\n",
       "    .dataframe tbody tr th:only-of-type {\n",
       "        vertical-align: middle;\n",
       "    }\n",
       "\n",
       "    .dataframe tbody tr th {\n",
       "        vertical-align: top;\n",
       "    }\n",
       "\n",
       "    .dataframe thead th {\n",
       "        text-align: right;\n",
       "    }\n",
       "</style>\n",
       "<table border=\"1\" class=\"dataframe\">\n",
       "  <thead>\n",
       "    <tr style=\"text-align: right;\">\n",
       "      <th></th>\n",
       "      <th>name</th>\n",
       "      <th>age</th>\n",
       "      <th>city</th>\n",
       "      <th>marks</th>\n",
       "      <th>fees</th>\n",
       "    </tr>\n",
       "  </thead>\n",
       "  <tbody>\n",
       "    <tr>\n",
       "      <th>2</th>\n",
       "      <td>tushar</td>\n",
       "      <td>20</td>\n",
       "      <td>nashik</td>\n",
       "      <td>86</td>\n",
       "      <td>430000</td>\n",
       "    </tr>\n",
       "    <tr>\n",
       "      <th>3</th>\n",
       "      <td>kishan</td>\n",
       "      <td>32</td>\n",
       "      <td>nagpur</td>\n",
       "      <td>83</td>\n",
       "      <td>415000</td>\n",
       "    </tr>\n",
       "    <tr>\n",
       "      <th>4</th>\n",
       "      <td>roshan</td>\n",
       "      <td>21</td>\n",
       "      <td>kashmir</td>\n",
       "      <td>84</td>\n",
       "      <td>420000</td>\n",
       "    </tr>\n",
       "    <tr>\n",
       "      <th>5</th>\n",
       "      <td>omkar</td>\n",
       "      <td>22</td>\n",
       "      <td>pune</td>\n",
       "      <td>78</td>\n",
       "      <td>390000</td>\n",
       "    </tr>\n",
       "    <tr>\n",
       "      <th>6</th>\n",
       "      <td>ram</td>\n",
       "      <td>31</td>\n",
       "      <td>mumbai</td>\n",
       "      <td>86</td>\n",
       "      <td>430000</td>\n",
       "    </tr>\n",
       "  </tbody>\n",
       "</table>\n",
       "</div>"
      ],
      "text/plain": [
       "     name  age     city  marks    fees\n",
       "2  tushar   20   nashik     86  430000\n",
       "3  kishan   32   nagpur     83  415000\n",
       "4  roshan   21  kashmir     84  420000\n",
       "5   omkar   22     pune     78  390000\n",
       "6     ram   31   mumbai     86  430000"
      ]
     },
     "execution_count": 24,
     "metadata": {},
     "output_type": "execute_result"
    }
   ],
   "source": [
    "sd.tail()"
   ]
  },
  {
   "cell_type": "code",
   "execution_count": 25,
   "id": "fb0c58b4",
   "metadata": {},
   "outputs": [
    {
     "data": {
      "text/html": [
       "<div>\n",
       "<style scoped>\n",
       "    .dataframe tbody tr th:only-of-type {\n",
       "        vertical-align: middle;\n",
       "    }\n",
       "\n",
       "    .dataframe tbody tr th {\n",
       "        vertical-align: top;\n",
       "    }\n",
       "\n",
       "    .dataframe thead th {\n",
       "        text-align: right;\n",
       "    }\n",
       "</style>\n",
       "<table border=\"1\" class=\"dataframe\">\n",
       "  <thead>\n",
       "    <tr style=\"text-align: right;\">\n",
       "      <th></th>\n",
       "      <th>age</th>\n",
       "      <th>marks</th>\n",
       "      <th>fees</th>\n",
       "    </tr>\n",
       "  </thead>\n",
       "  <tbody>\n",
       "    <tr>\n",
       "      <th>count</th>\n",
       "      <td>7.000000</td>\n",
       "      <td>7.000000</td>\n",
       "      <td>7.000000</td>\n",
       "    </tr>\n",
       "    <tr>\n",
       "      <th>mean</th>\n",
       "      <td>25.142857</td>\n",
       "      <td>86.428571</td>\n",
       "      <td>432142.857143</td>\n",
       "    </tr>\n",
       "    <tr>\n",
       "      <th>std</th>\n",
       "      <td>5.550633</td>\n",
       "      <td>6.502747</td>\n",
       "      <td>32513.733362</td>\n",
       "    </tr>\n",
       "    <tr>\n",
       "      <th>min</th>\n",
       "      <td>20.000000</td>\n",
       "      <td>78.000000</td>\n",
       "      <td>390000.000000</td>\n",
       "    </tr>\n",
       "    <tr>\n",
       "      <th>25%</th>\n",
       "      <td>20.500000</td>\n",
       "      <td>83.500000</td>\n",
       "      <td>417500.000000</td>\n",
       "    </tr>\n",
       "    <tr>\n",
       "      <th>50%</th>\n",
       "      <td>22.000000</td>\n",
       "      <td>86.000000</td>\n",
       "      <td>430000.000000</td>\n",
       "    </tr>\n",
       "    <tr>\n",
       "      <th>75%</th>\n",
       "      <td>30.500000</td>\n",
       "      <td>87.500000</td>\n",
       "      <td>437500.000000</td>\n",
       "    </tr>\n",
       "    <tr>\n",
       "      <th>max</th>\n",
       "      <td>32.000000</td>\n",
       "      <td>99.000000</td>\n",
       "      <td>495000.000000</td>\n",
       "    </tr>\n",
       "  </tbody>\n",
       "</table>\n",
       "</div>"
      ],
      "text/plain": [
       "             age      marks           fees\n",
       "count   7.000000   7.000000       7.000000\n",
       "mean   25.142857  86.428571  432142.857143\n",
       "std     5.550633   6.502747   32513.733362\n",
       "min    20.000000  78.000000  390000.000000\n",
       "25%    20.500000  83.500000  417500.000000\n",
       "50%    22.000000  86.000000  430000.000000\n",
       "75%    30.500000  87.500000  437500.000000\n",
       "max    32.000000  99.000000  495000.000000"
      ]
     },
     "execution_count": 25,
     "metadata": {},
     "output_type": "execute_result"
    }
   ],
   "source": [
    "sd.describe()\n"
   ]
  },
  {
   "cell_type": "code",
   "execution_count": 26,
   "id": "93881dec",
   "metadata": {},
   "outputs": [
    {
     "name": "stdout",
     "output_type": "stream",
     "text": [
      "<class 'pandas.core.frame.DataFrame'>\n",
      "RangeIndex: 7 entries, 0 to 6\n",
      "Data columns (total 5 columns):\n",
      " #   Column  Non-Null Count  Dtype \n",
      "---  ------  --------------  ----- \n",
      " 0   name    7 non-null      object\n",
      " 1   age     7 non-null      int64 \n",
      " 2   city    7 non-null      object\n",
      " 3   marks   7 non-null      int64 \n",
      " 4   fees    7 non-null      int64 \n",
      "dtypes: int64(3), object(2)\n",
      "memory usage: 412.0+ bytes\n"
     ]
    }
   ],
   "source": [
    "sd.info()"
   ]
  },
  {
   "cell_type": "code",
   "execution_count": null,
   "id": "c764e355",
   "metadata": {},
   "outputs": [],
   "source": []
  }
 ],
 "metadata": {
  "kernelspec": {
   "display_name": "Python 3",
   "language": "python",
   "name": "python3"
  },
  "language_info": {
   "codemirror_mode": {
    "name": "ipython",
    "version": 3
   },
   "file_extension": ".py",
   "mimetype": "text/x-python",
   "name": "python",
   "nbconvert_exporter": "python",
   "pygments_lexer": "ipython3",
   "version": "3.13.3"
  }
 },
 "nbformat": 4,
 "nbformat_minor": 5
}
