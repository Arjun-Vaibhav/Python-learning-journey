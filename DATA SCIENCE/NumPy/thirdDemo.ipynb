{
 "cells": [
  {
   "cell_type": "code",
   "execution_count": 3,
   "id": "b01af64c",
   "metadata": {},
   "outputs": [],
   "source": [
    "import numpy as np \n",
    "arr=np.array([[[2,3,4],[5,8,7],[3,4,6]],[[8,5,2,],[7,4,1],[3,2,1]],[[3,6,5],[8,7,4],[1,5,9]]])"
   ]
  },
  {
   "cell_type": "code",
   "execution_count": 6,
   "id": "02137e9a",
   "metadata": {},
   "outputs": [
    {
     "name": "stdout",
     "output_type": "stream",
     "text": [
      "[[2 3 4]\n",
      " [5 8 7]\n",
      " [3 4 6]]\n",
      "**************************************************\n",
      "[[8 5 2]\n",
      " [7 4 1]\n",
      " [3 2 1]]\n",
      "**************************************************\n",
      "[[3 6 5]\n",
      " [8 7 4]\n",
      " [1 5 9]]\n",
      "**************************************************\n"
     ]
    }
   ],
   "source": [
    "for i in arr:\n",
    "    print(i)\n",
    "    print('*'*50)"
   ]
  },
  {
   "cell_type": "code",
   "execution_count": 7,
   "id": "2731d885",
   "metadata": {},
   "outputs": [
    {
     "name": "stdout",
     "output_type": "stream",
     "text": [
      "[2 3 4] [5 8 7] [3 4 6] \n",
      "[8 5 2] [7 4 1] [3 2 1] \n",
      "[3 6 5] [8 7 4] [1 5 9] \n"
     ]
    }
   ],
   "source": [
    "for i in arr:\n",
    "    for j in i:\n",
    "        print(j,end=\" \")\n",
    "    print()"
   ]
  },
  {
   "cell_type": "code",
   "execution_count": 8,
   "id": "05654fe7",
   "metadata": {},
   "outputs": [
    {
     "name": "stdout",
     "output_type": "stream",
     "text": [
      "2 3 4 \n",
      "5 8 7 \n",
      "3 4 6 \n",
      "\n",
      "8 5 2 \n",
      "7 4 1 \n",
      "3 2 1 \n",
      "\n",
      "3 6 5 \n",
      "8 7 4 \n",
      "1 5 9 \n",
      "\n"
     ]
    }
   ],
   "source": [
    "for i in arr:\n",
    "    for j in i:\n",
    "        for k in j:\n",
    "            print(k,end=\" \")\n",
    "        print()\n",
    "    print()"
   ]
  },
  {
   "cell_type": "code",
   "execution_count": 12,
   "id": "cf21683d",
   "metadata": {},
   "outputs": [
    {
     "name": "stdout",
     "output_type": "stream",
     "text": [
      "2 3 4 = 9\n",
      "5 8 7 = 20\n",
      "3 4 6 = 13\n",
      "\n",
      "8 5 2 = 15\n",
      "7 4 1 = 12\n",
      "3 2 1 = 6\n",
      "\n",
      "3 6 5 = 14\n",
      "8 7 4 = 19\n",
      "1 5 9 = 15\n",
      "\n"
     ]
    }
   ],
   "source": [
    "for i in arr:\n",
    "    for j in i:\n",
    "        sum=0\n",
    "        for k in j:\n",
    "            sum+=k\n",
    "            print(k,end=\" \")\n",
    "        print(\"=\",sum)\n",
    "    print()"
   ]
  },
  {
   "cell_type": "code",
   "execution_count": 14,
   "id": "19de6aea",
   "metadata": {},
   "outputs": [
    {
     "name": "stdout",
     "output_type": "stream",
     "text": [
      "4 3 2 = 9\n",
      "7 8 5 = 20\n",
      "6 4 3 = 13\n",
      "\n",
      "2 5 8 = 15\n",
      "1 4 7 = 12\n",
      "1 2 3 = 6\n",
      "\n",
      "5 6 3 = 14\n",
      "4 7 8 = 19\n",
      "9 5 1 = 15\n",
      "\n"
     ]
    }
   ],
   "source": [
    "for i in arr:\n",
    "    for j in i:\n",
    "        sum=0\n",
    "        for k in j[ ::-1]:\n",
    "            sum+=k\n",
    "            print(k,end=\" \")\n",
    "        print(\"=\",sum)\n",
    "    print()"
   ]
  },
  {
   "cell_type": "code",
   "execution_count": 19,
   "id": "3d3bd6ff",
   "metadata": {},
   "outputs": [
    {
     "name": "stdout",
     "output_type": "stream",
     "text": [
      "[ 55  68 100  60  95  88]\n"
     ]
    }
   ],
   "source": [
    "narr=np.array([34,12,55,68,9,17,10,100,60,27,95,88])\n",
    "newarr=narr[narr>50]\n",
    "print(newarr)"
   ]
  }
 ],
 "metadata": {
  "kernelspec": {
   "display_name": "Python 3",
   "language": "python",
   "name": "python3"
  },
  "language_info": {
   "codemirror_mode": {
    "name": "ipython",
    "version": 3
   },
   "file_extension": ".py",
   "mimetype": "text/x-python",
   "name": "python",
   "nbconvert_exporter": "python",
   "pygments_lexer": "ipython3",
   "version": "3.13.3"
  }
 },
 "nbformat": 4,
 "nbformat_minor": 5
}
