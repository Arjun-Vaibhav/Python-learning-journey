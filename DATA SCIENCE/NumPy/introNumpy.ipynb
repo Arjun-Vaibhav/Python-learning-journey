{
 "cells": [
  {
   "cell_type": "code",
   "execution_count": 2,
   "id": "3098007c",
   "metadata": {},
   "outputs": [
    {
     "name": "stdout",
     "output_type": "stream",
     "text": [
      "0\n"
     ]
    }
   ],
   "source": [
    "import numpy  as np \n",
    "arr1=np.array(5)\n",
    "arr1 \n",
    "print(arr1.ndim)"
   ]
  },
  {
   "cell_type": "code",
   "execution_count": 3,
   "id": "b8ac10bb",
   "metadata": {},
   "outputs": [
    {
     "name": "stdout",
     "output_type": "stream",
     "text": [
      "[20 30 40 50 60 70]\n",
      "1\n",
      "90\n",
      "20\n",
      "30\n",
      "40\n",
      "50\n",
      "60\n",
      "70\n"
     ]
    }
   ],
   "source": [
    "arr2=np.array([20,30,40,50,60,70])\n",
    "print(arr2)\n",
    "print(arr2.ndim)\n",
    "print(arr2[2] + arr2[3])\n",
    "for i in arr2:\n",
    "    print(i)"
   ]
  },
  {
   "cell_type": "code",
   "execution_count": 6,
   "id": "48b55c80",
   "metadata": {},
   "outputs": [
    {
     "name": "stdout",
     "output_type": "stream",
     "text": [
      "sum of array= 270\n",
      "divisible by 3 and 5 number addtion= 90\n"
     ]
    }
   ],
   "source": [
    "sum=0\n",
    "sum1=0\n",
    "for i in arr2:\n",
    "    sum+=i\n",
    "    if i%3==0 and i%5==0:\n",
    "        sum1=sum1+i\n",
    "print('sum of array=',sum)\n",
    "print('divisible by 3 and 5 number addtion=',sum1)\n"
   ]
  },
  {
   "cell_type": "code",
   "execution_count": 16,
   "id": "f4114420",
   "metadata": {},
   "outputs": [
    {
     "name": "stdout",
     "output_type": "stream",
     "text": [
      "1 2 3 \n",
      "4 5 6 \n",
      "7 8 9 \n"
     ]
    }
   ],
   "source": [
    "arr2=np.array([[1,2,3],[4,5,6],[7,8,9]])\n",
    "for i in arr2:\n",
    "    for j in i:\n",
    "        print(j,end=\" \")\n",
    "    print()    "
   ]
  },
  {
   "cell_type": "code",
   "execution_count": 18,
   "id": "3c26768f",
   "metadata": {},
   "outputs": [
    {
     "name": "stdout",
     "output_type": "stream",
     "text": [
      "addition: [5 7 9]\n",
      "[ 4 10 18]\n",
      "[  1  32 729]\n"
     ]
    }
   ],
   "source": [
    "a=np.array([1,2,3])\n",
    "b=np.array([4,5,6])\n",
    "print('addition:',a+b)\n",
    "print(a*b)\n",
    "print(a**b)"
   ]
  },
  {
   "cell_type": "code",
   "execution_count": 27,
   "id": "1c53e253",
   "metadata": {},
   "outputs": [
    {
     "name": "stdout",
     "output_type": "stream",
     "text": [
      "2\n",
      "[12 16 23 21]\n",
      "1 2 3 4 \n",
      "5 6 7 8 \n",
      "****************************************\n",
      "4 5 6 1 \n",
      "2 3 7 8 \n",
      "****************************************\n",
      "[26 46]\n"
     ]
    }
   ],
   "source": [
    "a1=np.array([[1,2,3,4],[5,6,7,8]])\n",
    "b2=np.array([[4,5,6,1],[2,3,7,8]])\n",
    "print(a1.ndim)\n",
    "print(np.sum(a1+b2,axis=0))\n",
    "for i in a1:\n",
    "    for j in i:\n",
    "        print(j,end=\" \")\n",
    "    print()\n",
    "print(\"*\"*40)\n",
    "for i in b2:\n",
    "    for j in i:\n",
    "        print(j,end=\" \")\n",
    "    print()\n",
    "print(\"*\"*40)\n",
    "print(np.sum(a1+b2,axis=1))"
   ]
  },
  {
   "cell_type": "code",
   "execution_count": null,
   "id": "d5a73707",
   "metadata": {},
   "outputs": [
    {
     "name": "stdout",
     "output_type": "stream",
     "text": [
      "[12 18 17]\n",
      "[11 12  9 15]\n"
     ]
    }
   ],
   "source": [
    "arr=np.array([[2,4,5],[2,3,7],[3,4,2],[5,7,3]])\n",
    "print(np.sum(arr,axis=0))\n",
    "print(np.sum,'sdss'(arr,axis=1))"
   ]
  },
  {
   "cell_type": "code",
   "execution_count": 35,
   "id": "b0e12d1c",
   "metadata": {},
   "outputs": [
    {
     "name": "stdout",
     "output_type": "stream",
     "text": [
      "2\n",
      "7\n"
     ]
    }
   ],
   "source": [
    "print(np.min(arr))\n",
    "print(np.max(arr))"
   ]
  },
  {
   "cell_type": "code",
   "execution_count": null,
   "id": "c4372275",
   "metadata": {},
   "outputs": [
    {
     "name": "stdout",
     "output_type": "stream",
     "text": [
      "sum of 1 d array 36\n"
     ]
    }
   ],
   "source": [
    "sum=0\n",
    "D1=np.array([1,2,3,4,5,6,7,8])\n",
    "for i in D1:\n",
    "    sum+=i\n",
    "print('sum of 1 d array:',sum)"
   ]
  },
  {
   "cell_type": "code",
   "execution_count": null,
   "id": "8069b125",
   "metadata": {},
   "outputs": [
    {
     "name": "stdout",
     "output_type": "stream",
     "text": [
      "30\n"
     ]
    }
   ],
   "source": [
    "sum=0\n",
    "matrixs=np.array([1,2,3,4,5,6,7,8,9,10])\n",
    "lenth=len(matrixs)\n",
    "for i in range(0,lenth+1,3):\n",
    "    sum+=i\n",
    "print(sum)\n"
   ]
  },
  {
   "cell_type": "code",
   "execution_count": null,
   "id": "c2b104e5",
   "metadata": {},
   "outputs": [
    {
     "name": "stdout",
     "output_type": "stream",
     "text": [
      "3\n",
      "3\n",
      "3\n"
     ]
    }
   ],
   "source": [
    "cource=np.array([\"BCA\",\"Btech\",\"engineering\"])\n",
    "for i in cource:\n",
    "    "
   ]
  },
  {
   "cell_type": "code",
   "execution_count": 51,
   "id": "93e0255a",
   "metadata": {},
   "outputs": [
    {
     "name": "stdout",
     "output_type": "stream",
     "text": [
      "5.5\n"
     ]
    }
   ],
   "source": [
    "print(np.average(matrixs))"
   ]
  },
  {
   "cell_type": "code",
   "execution_count": 52,
   "id": "1da054ab",
   "metadata": {},
   "outputs": [
    {
     "name": "stdout",
     "output_type": "stream",
     "text": [
      "engineering\n",
      "Btech\n",
      "BCA\n"
     ]
    }
   ],
   "source": [
    "\n",
    "cource=np.array([\"BCA\",\"Btech\",\"engineering\"])\n",
    "for i in cource[: :-1]:\n",
    "    print(i)\n"
   ]
  },
  {
   "cell_type": "code",
   "execution_count": 55,
   "id": "f30c8eaa",
   "metadata": {},
   "outputs": [
    {
     "name": "stdout",
     "output_type": "stream",
     "text": [
      "19\n"
     ]
    }
   ],
   "source": [
    "count=0\n",
    "for i in cource:\n",
    "    for j in i:\n",
    "        count+=1\n",
    "print(count)"
   ]
  },
  {
   "cell_type": "code",
   "execution_count": 56,
   "id": "027ec0fa",
   "metadata": {},
   "outputs": [
    {
     "name": "stdout",
     "output_type": "stream",
     "text": [
      "<class 'numpy.str_'>\n",
      "<class 'numpy.str_'>\n",
      "<class 'numpy.str_'>\n"
     ]
    }
   ],
   "source": [
    "arr=np.array([2,'vaibhav',4.5])\n",
    "for i in arr:\n",
    "    print(type(i))"
   ]
  },
  {
   "cell_type": "code",
   "execution_count": 57,
   "id": "a784d4af",
   "metadata": {},
   "outputs": [
    {
     "name": "stdout",
     "output_type": "stream",
     "text": [
      "[ 6  8 10 12]\n"
     ]
    }
   ],
   "source": [
    "arr1=np.array([2,3,4,5])\n",
    "arr2=np.array([4,5,6,7])\n",
    "print(arr1+arr2)"
   ]
  },
  {
   "cell_type": "code",
   "execution_count": 58,
   "id": "9ba45c5c",
   "metadata": {},
   "outputs": [
    {
     "name": "stdout",
     "output_type": "stream",
     "text": [
      "[ 4  6  8 10]\n"
     ]
    }
   ],
   "source": [
    "print(arr1*2)"
   ]
  }
 ],
 "metadata": {
  "kernelspec": {
   "display_name": "Python 3",
   "language": "python",
   "name": "python3"
  },
  "language_info": {
   "codemirror_mode": {
    "name": "ipython",
    "version": 3
   },
   "file_extension": ".py",
   "mimetype": "text/x-python",
   "name": "python",
   "nbconvert_exporter": "python",
   "pygments_lexer": "ipython3",
   "version": "3.13.3"
  }
 },
 "nbformat": 4,
 "nbformat_minor": 5
}
