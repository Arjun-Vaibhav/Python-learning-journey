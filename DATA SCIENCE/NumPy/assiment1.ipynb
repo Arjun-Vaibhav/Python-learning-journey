{
 "cells": [
  {
   "cell_type": "code",
   "execution_count": 5,
   "id": "4f2e44ae",
   "metadata": {},
   "outputs": [],
   "source": [
    "import numpy as np"
   ]
  },
  {
   "cell_type": "code",
   "execution_count": 6,
   "id": "a6ce286e",
   "metadata": {},
   "outputs": [
    {
     "data": {
      "text/plain": [
       "array([2, 4, 5, 6, 7, 2])"
      ]
     },
     "execution_count": 6,
     "metadata": {},
     "output_type": "execute_result"
    }
   ],
   "source": [
    "\n",
    "#1. Create an array from a Python list(1D)\n",
    "\n",
    "array1=np.array([2,4,5,6,7,2])\n",
    "array1"
   ]
  },
  {
   "cell_type": "code",
   "execution_count": 7,
   "id": "951e12a5",
   "metadata": {},
   "outputs": [
    {
     "data": {
      "text/plain": [
       "array([[1, 2, 3],\n",
       "       [7, 8, 9],\n",
       "       [5, 6, 4]])"
      ]
     },
     "execution_count": 7,
     "metadata": {},
     "output_type": "execute_result"
    }
   ],
   "source": [
    "#2. Create a 2D array (matrix) array\n",
    "array2=np.array([[1,2,3],[7,8,9],[5,6,4]])\n",
    "array2"
   ]
  },
  {
   "cell_type": "code",
   "execution_count": 8,
   "id": "3f15509f",
   "metadata": {},
   "outputs": [
    {
     "name": "stdout",
     "output_type": "stream",
     "text": [
      "(3, 3)\n"
     ]
    }
   ],
   "source": [
    "#3.Check the shape of the array.\n",
    "\n",
    "print(array2.shape)"
   ]
  },
  {
   "cell_type": "code",
   "execution_count": 9,
   "id": "0a90f826",
   "metadata": {},
   "outputs": [
    {
     "name": "stdout",
     "output_type": "stream",
     "text": [
      "int64\n"
     ]
    }
   ],
   "source": [
    "#4.Check the data type of array elements.\n",
    "print(array2.dtype)"
   ]
  },
  {
   "cell_type": "code",
   "execution_count": 10,
   "id": "d37c80a9",
   "metadata": {},
   "outputs": [
    {
     "data": {
      "text/plain": [
       "array([[2, 4],\n",
       "       [5, 6],\n",
       "       [7, 2]])"
      ]
     },
     "execution_count": 10,
     "metadata": {},
     "output_type": "execute_result"
    }
   ],
   "source": [
    "#5.Reshape a 1D array of size 9 into a 3x3 matrix.\n",
    "array1.reshape(3,2)"
   ]
  },
  {
   "cell_type": "code",
   "execution_count": 11,
   "id": "92a3c0b9",
   "metadata": {},
   "outputs": [
    {
     "data": {
      "text/plain": [
       "np.int64(9)"
      ]
     },
     "execution_count": 11,
     "metadata": {},
     "output_type": "execute_result"
    }
   ],
   "source": [
    "#6.Access the element at row 2, column 3 in a 2D array.\n",
    "# for i in array2:\n",
    "#     print(i)\n",
    "array2[1][2]"
   ]
  },
  {
   "cell_type": "code",
   "execution_count": 12,
   "id": "dadc06af",
   "metadata": {},
   "outputs": [
    {
     "name": "stdout",
     "output_type": "stream",
     "text": [
      "[[ 1  2  3]\n",
      " [ 7  8  9]\n",
      " [ 5  6 56]]\n"
     ]
    }
   ],
   "source": [
    "#7.Replace a specific element in a 2D array.\n",
    "array2[2][2]=56\n",
    "print(array2)"
   ]
  },
  {
   "cell_type": "code",
   "execution_count": 13,
   "id": "c313b33f",
   "metadata": {},
   "outputs": [
    {
     "data": {
      "text/plain": [
       "array([[1, 2],\n",
       "       [7, 8]])"
      ]
     },
     "execution_count": 13,
     "metadata": {},
     "output_type": "execute_result"
    }
   ],
   "source": [
    "#8.Slice the first two rows and columns of a 3x3 matrix.\n",
    "result = array2[0:2,0:2]\n",
    "result"
   ]
  },
  {
   "cell_type": "code",
   "execution_count": 14,
   "id": "329691b9",
   "metadata": {},
   "outputs": [],
   "source": [
    "#9.Add two arrays element-wise.\n",
    "arr1=np.array([1,2,3,4,5,6])\n",
    "arr2=np.array([2,3,5,4,8,6])\n",
    "\n"
   ]
  },
  {
   "cell_type": "code",
   "execution_count": 15,
   "id": "88b10b87",
   "metadata": {},
   "outputs": [
    {
     "data": {
      "text/plain": [
       "array([ 2,  6, 15, 16, 40, 36])"
      ]
     },
     "execution_count": 15,
     "metadata": {},
     "output_type": "execute_result"
    }
   ],
   "source": [
    "#10.Multiply two arrays element-wise.\n",
    "result=(arr1 * arr2)\n",
    "result"
   ]
  },
  {
   "cell_type": "code",
   "execution_count": 16,
   "id": "fadad03e",
   "metadata": {},
   "outputs": [
    {
     "name": "stdout",
     "output_type": "stream",
     "text": [
      "[2 4 5 6 7 2]\n"
     ]
    },
    {
     "data": {
      "text/plain": [
       "array([ 4, 16, 25, 36, 49,  4])"
      ]
     },
     "execution_count": 16,
     "metadata": {},
     "output_type": "execute_result"
    }
   ],
   "source": [
    "#11.Square every element in an array.\n",
    "print(array1)\n",
    "res=array1**2\n",
    "res"
   ]
  },
  {
   "cell_type": "code",
   "execution_count": 17,
   "id": "e6987ce8",
   "metadata": {},
   "outputs": [
    {
     "data": {
      "text/plain": [
       "np.int64(26)"
      ]
     },
     "execution_count": 17,
     "metadata": {},
     "output_type": "execute_result"
    }
   ],
   "source": [
    "#12.Find the sum of all elements in an array.\n",
    "result=np.sum(array1)\n",
    "result\n"
   ]
  },
  {
   "cell_type": "code",
   "execution_count": 18,
   "id": "8897005e",
   "metadata": {},
   "outputs": [
    {
     "data": {
      "text/plain": [
       "2"
      ]
     },
     "execution_count": 18,
     "metadata": {},
     "output_type": "execute_result"
    }
   ],
   "source": [
    "#13.Create an array of 5 random integers between 1 and 10.\n",
    "rnum=np.random.randint(1,10)\n",
    "rnum"
   ]
  },
  {
   "cell_type": "code",
   "execution_count": 19,
   "id": "89f9ee47",
   "metadata": {},
   "outputs": [
    {
     "data": {
      "text/plain": [
       "array([2, 6, 5, 1, 4, 3])"
      ]
     },
     "execution_count": 19,
     "metadata": {},
     "output_type": "execute_result"
    }
   ],
   "source": [
    "#14.Shuffle a NumPy array.\n",
    "np.random.shuffle(arr1) \n",
    "arr1"
   ]
  },
  {
   "cell_type": "code",
   "execution_count": 20,
   "id": "ca3be9c2",
   "metadata": {},
   "outputs": [
    {
     "data": {
      "text/plain": [
       "np.float64(0.009238466480358939)"
      ]
     },
     "execution_count": 20,
     "metadata": {},
     "output_type": "execute_result"
    }
   ],
   "source": [
    "#15.Generate 1000 random numbers and find the mean\n",
    "\n",
    "mean_value = np.random.randn(1000).mean()\n",
    "mean_value\n"
   ]
  },
  {
   "cell_type": "code",
   "execution_count": 21,
   "id": "b4a56152",
   "metadata": {},
   "outputs": [
    {
     "data": {
      "text/plain": [
       "array([2, 2, 4, 5, 6, 7])"
      ]
     },
     "execution_count": 21,
     "metadata": {},
     "output_type": "execute_result"
    }
   ],
   "source": [
    "#16.Sort array in ascending orde\n",
    "\n",
    "np.sort(array1)"
   ]
  },
  {
   "cell_type": "code",
   "execution_count": 22,
   "id": "2c4418e8",
   "metadata": {},
   "outputs": [
    {
     "data": {
      "text/plain": [
       "(array([5]),)"
      ]
     },
     "execution_count": 22,
     "metadata": {},
     "output_type": "execute_result"
    }
   ],
   "source": [
    "#17.Search specific element in an array\n",
    "np.where(arr1==3)\n"
   ]
  },
  {
   "cell_type": "code",
   "execution_count": 23,
   "id": "033c026a",
   "metadata": {},
   "outputs": [
    {
     "data": {
      "text/plain": [
       "array([2, 4, 6, 2])"
      ]
     },
     "execution_count": 23,
     "metadata": {},
     "output_type": "execute_result"
    }
   ],
   "source": [
    "#18. Filter an array by even numbers\n",
    "\n",
    "evennum=array1[array1 % 2 ==0]\n",
    "evennum"
   ]
  },
  {
   "cell_type": "code",
   "execution_count": 24,
   "id": "f8871078",
   "metadata": {},
   "outputs": [
    {
     "name": "stdout",
     "output_type": "stream",
     "text": [
      "2 3 4 \n",
      "5 8 7 \n",
      "3 4 6 \n",
      "\n",
      "8 5 2 \n",
      "7 4 1 \n",
      "3 2 1 \n",
      "\n",
      "3 6 5 \n",
      "8 7 4 \n",
      "1 5 9 \n",
      "\n"
     ]
    }
   ],
   "source": [
    "#19. Create 3x3 matrix and iterate matrix thro. for loop\n",
    "\n",
    "arr=np.array([[[2,3,4],[5,8,7],[3,4,6]],[[8,5,2,],[7,4,1],[3,2,1]],[[3,6,5],[8,7,4],[1,5,9]]])\n",
    "for i in arr:\n",
    "    for j in i:\n",
    "        for k in j:\n",
    "            print(k,end=\" \")\n",
    "        print()\n",
    "    print()"
   ]
  },
  {
   "cell_type": "code",
   "execution_count": 25,
   "id": "1e5534d0",
   "metadata": {},
   "outputs": [
    {
     "name": "stdout",
     "output_type": "stream",
     "text": [
      "2 3 4 = 9\n",
      "5 8 7 = 20\n",
      "3 4 6 = 13\n",
      "\n",
      "8 5 2 = 15\n",
      "7 4 1 = 12\n",
      "3 2 1 = 6\n",
      "\n",
      "3 6 5 = 14\n",
      "8 7 4 = 19\n",
      "1 5 9 = 15\n",
      "\n"
     ]
    }
   ],
   "source": [
    "#20. print row wise addition of 2D matrix\n",
    "for i in arr:\n",
    "    for j in i:\n",
    "        sum=0\n",
    "        for k in j:\n",
    "            sum+=k\n",
    "            print(k,end=\" \")\n",
    "        print('=',sum)\n",
    "    print()"
   ]
  }
 ],
 "metadata": {
  "kernelspec": {
   "display_name": "Python 3",
   "language": "python",
   "name": "python3"
  },
  "language_info": {
   "codemirror_mode": {
    "name": "ipython",
    "version": 3
   },
   "file_extension": ".py",
   "mimetype": "text/x-python",
   "name": "python",
   "nbconvert_exporter": "python",
   "pygments_lexer": "ipython3",
   "version": "3.13.3"
  }
 },
 "nbformat": 4,
 "nbformat_minor": 5
}
