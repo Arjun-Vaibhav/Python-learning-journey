{
 "cells": [
  {
   "cell_type": "code",
   "execution_count": 10,
   "id": "19f69c5b",
   "metadata": {},
   "outputs": [],
   "source": [
    "import seaborn as sb\n",
    "import matplotlib.pyplot as plt\n",
    "import numpy as np\n",
    "import pandas as pd"
   ]
  },
  {
   "cell_type": "code",
   "execution_count": 11,
   "id": "0e7efa08",
   "metadata": {},
   "outputs": [],
   "source": [
    "# df=pd.read_csv(\"titanic.csv\")\n",
    "# plt.bar(df['age'],df['Fare'])\n",
    "# plt.title('titanic info')\n",
    "# plt.xlabel['age']\n",
    "# plt.ylabel['Fare']\n",
    "# plt.show()"
   ]
  },
  {
   "cell_type": "code",
   "execution_count": 12,
   "id": "e0ab0b6a",
   "metadata": {},
   "outputs": [
    {
     "data": {
      "text/plain": [
       "<Axes: xlabel='class', ylabel='count'>"
      ]
     },
     "execution_count": 12,
     "metadata": {},
     "output_type": "execute_result"
    },
    {
     "data": {
      "image/png": "[encoded data removed]",
      "text/plain": [
       "<Figure size 640x480 with 1 Axes>"
      ]
     },
     "metadata": {},
     "output_type": "display_data"
    }
   ],
   "source": [
    "import seaborn as sns\n",
    "\n",
    "df =sns.load_dataset(\"titanic\")\n",
    "\n",
    "\n",
    "\n",
    "#df.isnull().sum()\n",
    "\n",
    "df['age'] = df['age'].fillna(df['age']).mean()\n",
    "\n",
    "df['deck'] = df['deck'].ffill()\n",
    "\n",
    "df['embark_town'] =df['embark_town'].ffill()\n",
    "\n",
    "df['embarked'] =df['embarked'].ffill()\n",
    "\n",
    "df.dropna (inplace=True)\n",
    "\n",
    "df.isnull().sum()\n",
    "sns.countplot(data=df,x='class',hue=\"survived\")"
   ]
  },
  {
   "cell_type": "markdown",
   "id": "fca53c80",
   "metadata": {},
   "source": [
    "Download amazon-productdataset.csv file or load dataset thro.sns\n",
    "check null values and fill all null values thro.ffill function Python\n",
    "then again check dataset is there any null values? if null values are there then d=use dropNa() method\n",
    "draw following charts on any 2 columns\n",
    "1. histoplot\n",
    "\n",
    "2. boxplot\n",
    "\n",
    "3. count plot\n",
    "\n",
    "4. bar plot\n",
    "\n",
    "5. pie plot"
   ]
  },
  {
   "cell_type": "code",
   "execution_count": 14,
   "id": "6ec03707",
   "metadata": {},
   "outputs": [
    {
     "ename": "ValueError",
     "evalue": "'amazon.csv' is not one of the example datasets.",
     "output_type": "error",
     "traceback": [
      "\u001b[31m---------------------------------------------------------------------------\u001b[39m",
      "\u001b[31mValueError\u001b[39m                                Traceback (most recent call last)",
      "\u001b[36mCell\u001b[39m\u001b[36m \u001b[39m\u001b[32mIn[14]\u001b[39m\u001b[32m, line 3\u001b[39m\n\u001b[32m      1\u001b[39m \u001b[38;5;28;01mimport\u001b[39;00m \u001b[34;01mseaborn\u001b[39;00m \u001b[38;5;28;01mas\u001b[39;00m \u001b[34;01msns\u001b[39;00m\n\u001b[32m----> \u001b[39m\u001b[32m3\u001b[39m df =\u001b[43msns\u001b[49m\u001b[43m.\u001b[49m\u001b[43mload_dataset\u001b[49m\u001b[43m(\u001b[49m\u001b[33;43m\"\u001b[39;49m\u001b[33;43mamazon.csv\u001b[39;49m\u001b[33;43m\"\u001b[39;49m\u001b[43m)\u001b[49m\n",
      "\u001b[36mFile \u001b[39m\u001b[32mc:\\Users\\DELL\\AppData\\Local\\Programs\\Python\\Python313\\Lib\\site-packages\\seaborn\\utils.py:573\u001b[39m, in \u001b[36mload_dataset\u001b[39m\u001b[34m(name, cache, data_home, **kws)\u001b[39m\n\u001b[32m    571\u001b[39m \u001b[38;5;28;01mif\u001b[39;00m \u001b[38;5;129;01mnot\u001b[39;00m os.path.exists(cache_path):\n\u001b[32m    572\u001b[39m     \u001b[38;5;28;01mif\u001b[39;00m name \u001b[38;5;129;01mnot\u001b[39;00m \u001b[38;5;129;01min\u001b[39;00m get_dataset_names():\n\u001b[32m--> \u001b[39m\u001b[32m573\u001b[39m         \u001b[38;5;28;01mraise\u001b[39;00m \u001b[38;5;167;01mValueError\u001b[39;00m(\u001b[33mf\u001b[39m\u001b[33m\"\u001b[39m\u001b[33m'\u001b[39m\u001b[38;5;132;01m{\u001b[39;00mname\u001b[38;5;132;01m}\u001b[39;00m\u001b[33m'\u001b[39m\u001b[33m is not one of the example datasets.\u001b[39m\u001b[33m\"\u001b[39m)\n\u001b[32m    574\u001b[39m     urlretrieve(url, cache_path)\n\u001b[32m    575\u001b[39m full_path = cache_path\n",
      "\u001b[31mValueError\u001b[39m: 'amazon.csv' is not one of the example datasets."
     ]
    }
   ],
   "source": [
    "import seaborn as sns\n",
    "\n",
    "df =sns.load_dataset(\"amazon.csv\")"
   ]
  }
 ],
 "metadata": {
  "kernelspec": {
   "display_name": "Python 3",
   "language": "python",
   "name": "python3"
  },
  "language_info": {
   "codemirror_mode": {
    "name": "ipython",
    "version": 3
   },
   "file_extension": ".py",
   "mimetype": "text/x-python",
   "name": "python",
   "nbconvert_exporter": "python",
   "pygments_lexer": "ipython3",
   "version": "3.13.3"
  }
 },
 "nbformat": 4,
 "nbformat_minor": 5
}
